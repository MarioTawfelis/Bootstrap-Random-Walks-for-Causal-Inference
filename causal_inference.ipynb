{
 "cells": [
  {
   "cell_type": "markdown",
   "metadata": {},
   "source": [
    "# Causal Inference using Random Walks and Bootstrap\n",
    "## Use case: Isolating the impact of Email Marketing on Sales\n",
    "### Source: <a href=\"https://medium.com/@carlangastr/combining-random-walks-and-bootstrap-for-causal-inference-analysis-on-time-series-2ca89f95bbe6\">Medium Article</a>"
   ]
  },
  {
   "cell_type": "markdown",
   "metadata": {},
   "source": [
    "### Background\n",
    "\n",
    "An international e-commerce company wants to evaluate the impact of their email marketing efforts on sales. To do this, they plan to increase their email spent in one country for a specific period, while keeping other marketing activities constant. They aim to isolate the effect of email marketing and understand its impact on sales. The e-commerce platform’s actions remain constant over time, ensuring a stable environment for the analysis."
   ]
  },
  {
   "cell_type": "code",
   "execution_count": 28,
   "metadata": {
    "collapsed": true
   },
   "outputs": [
    {
     "name": "stdout",
     "output_type": "stream",
     "text": [
      "Requirement already satisfied: seaborn in /Library/Frameworks/Python.framework/Versions/3.8/lib/python3.8/site-packages (0.12.0)\n",
      "Collecting seaborn\n",
      "  Using cached seaborn-0.12.2-py3-none-any.whl (293 kB)\n",
      "Requirement already satisfied: numpy!=1.24.0,>=1.17 in /Library/Frameworks/Python.framework/Versions/3.8/lib/python3.8/site-packages (from seaborn) (1.18.1)\n",
      "Requirement already satisfied: pandas>=0.25 in /Library/Frameworks/Python.framework/Versions/3.8/lib/python3.8/site-packages (from seaborn) (1.3.4)\n",
      "Requirement already satisfied: matplotlib!=3.6.1,>=3.1 in /Library/Frameworks/Python.framework/Versions/3.8/lib/python3.8/site-packages (from seaborn) (3.2.0)\n",
      "Requirement already satisfied: cycler>=0.10 in /Library/Frameworks/Python.framework/Versions/3.8/lib/python3.8/site-packages (from matplotlib!=3.6.1,>=3.1->seaborn) (0.10.0)\n",
      "Requirement already satisfied: kiwisolver>=1.0.1 in /Library/Frameworks/Python.framework/Versions/3.8/lib/python3.8/site-packages (from matplotlib!=3.6.1,>=3.1->seaborn) (1.1.0)\n",
      "Requirement already satisfied: pyparsing!=2.0.4,!=2.1.2,!=2.1.6,>=2.0.1 in /Library/Frameworks/Python.framework/Versions/3.8/lib/python3.8/site-packages (from matplotlib!=3.6.1,>=3.1->seaborn) (2.4.6)\n",
      "Requirement already satisfied: python-dateutil>=2.1 in /Library/Frameworks/Python.framework/Versions/3.8/lib/python3.8/site-packages (from matplotlib!=3.6.1,>=3.1->seaborn) (2.8.1)\n",
      "Requirement already satisfied: pytz>=2017.3 in /Library/Frameworks/Python.framework/Versions/3.8/lib/python3.8/site-packages (from pandas>=0.25->seaborn) (2019.3)\n",
      "Requirement already satisfied: six in /Library/Frameworks/Python.framework/Versions/3.8/lib/python3.8/site-packages (from cycler>=0.10->matplotlib!=3.6.1,>=3.1->seaborn) (1.14.0)\n",
      "Requirement already satisfied: setuptools in /Library/Frameworks/Python.framework/Versions/3.8/lib/python3.8/site-packages (from kiwisolver>=1.0.1->matplotlib!=3.6.1,>=3.1->seaborn) (41.2.0)\n",
      "Installing collected packages: seaborn\n",
      "  Attempting uninstall: seaborn\n",
      "    Found existing installation: seaborn 0.12.0\n",
      "    Uninstalling seaborn-0.12.0:\n",
      "      Successfully uninstalled seaborn-0.12.0\n",
      "Successfully installed seaborn-0.12.2\n"
     ]
    }
   ],
   "source": [
    "# Library updates\n",
    "!pip3 install -U seaborn"
   ]
  },
  {
   "cell_type": "code",
   "execution_count": 25,
   "metadata": {
    "collapsed": true
   },
   "outputs": [
    {
     "name": "stdout",
     "output_type": "stream",
     "text": [
      "Requirement already satisfied: tscausalinference in /Library/Frameworks/Python.framework/Versions/3.8/lib/python3.8/site-packages (0.2.0.9)\n",
      "Requirement already satisfied: numpy in /Library/Frameworks/Python.framework/Versions/3.8/lib/python3.8/site-packages (from tscausalinference) (1.18.1)\n",
      "Requirement already satisfied: pandas in /Library/Frameworks/Python.framework/Versions/3.8/lib/python3.8/site-packages (from tscausalinference) (1.3.4)\n",
      "Requirement already satisfied: scikit-learn in /Library/Frameworks/Python.framework/Versions/3.8/lib/python3.8/site-packages (from tscausalinference) (0.23.1)\n",
      "Requirement already satisfied: prophet in /Library/Frameworks/Python.framework/Versions/3.8/lib/python3.8/site-packages (from tscausalinference) (1.0.1)\n",
      "Requirement already satisfied: scipy in /Library/Frameworks/Python.framework/Versions/3.8/lib/python3.8/site-packages (from tscausalinference) (1.4.1)\n",
      "Requirement already satisfied: tabulate in /Library/Frameworks/Python.framework/Versions/3.8/lib/python3.8/site-packages (from tscausalinference) (0.9.0)\n",
      "Requirement already satisfied: statsmodels in /Library/Frameworks/Python.framework/Versions/3.8/lib/python3.8/site-packages (from tscausalinference) (0.11.1)\n",
      "Requirement already satisfied: seaborn in /Library/Frameworks/Python.framework/Versions/3.8/lib/python3.8/site-packages (from tscausalinference) (0.12.0)\n",
      "Requirement already satisfied: python-dateutil>=2.7.3 in /Library/Frameworks/Python.framework/Versions/3.8/lib/python3.8/site-packages (from pandas->tscausalinference) (2.8.1)\n",
      "Requirement already satisfied: pytz>=2017.3 in /Library/Frameworks/Python.framework/Versions/3.8/lib/python3.8/site-packages (from pandas->tscausalinference) (2019.3)\n",
      "Requirement already satisfied: Cython>=0.22 in /Library/Frameworks/Python.framework/Versions/3.8/lib/python3.8/site-packages (from prophet->tscausalinference) (0.29.24)\n",
      "Requirement already satisfied: cmdstanpy==0.9.68 in /Library/Frameworks/Python.framework/Versions/3.8/lib/python3.8/site-packages (from prophet->tscausalinference) (0.9.68)\n",
      "Requirement already satisfied: pystan~=2.19.1.1 in /Library/Frameworks/Python.framework/Versions/3.8/lib/python3.8/site-packages (from prophet->tscausalinference) (2.19.1.1)\n",
      "Requirement already satisfied: matplotlib>=2.0.0 in /Library/Frameworks/Python.framework/Versions/3.8/lib/python3.8/site-packages (from prophet->tscausalinference) (3.2.0)\n",
      "Requirement already satisfied: LunarCalendar>=0.0.9 in /Library/Frameworks/Python.framework/Versions/3.8/lib/python3.8/site-packages (from prophet->tscausalinference) (0.0.9)\n",
      "Requirement already satisfied: convertdate>=2.1.2 in /Library/Frameworks/Python.framework/Versions/3.8/lib/python3.8/site-packages (from prophet->tscausalinference) (2.3.2)\n",
      "Requirement already satisfied: holidays>=0.10.2 in /Library/Frameworks/Python.framework/Versions/3.8/lib/python3.8/site-packages (from prophet->tscausalinference) (0.11.3.1)\n",
      "Requirement already satisfied: setuptools-git>=1.2 in /Library/Frameworks/Python.framework/Versions/3.8/lib/python3.8/site-packages (from prophet->tscausalinference) (1.2)\n",
      "Requirement already satisfied: tqdm>=4.36.1 in /Library/Frameworks/Python.framework/Versions/3.8/lib/python3.8/site-packages (from prophet->tscausalinference) (4.48.0)\n",
      "Requirement already satisfied: ujson in /Library/Frameworks/Python.framework/Versions/3.8/lib/python3.8/site-packages (from cmdstanpy==0.9.68->prophet->tscausalinference) (4.3.0)\n",
      "Requirement already satisfied: joblib>=0.11 in /Library/Frameworks/Python.framework/Versions/3.8/lib/python3.8/site-packages (from scikit-learn->tscausalinference) (0.15.1)\n",
      "Requirement already satisfied: threadpoolctl>=2.0.0 in /Library/Frameworks/Python.framework/Versions/3.8/lib/python3.8/site-packages (from scikit-learn->tscausalinference) (2.1.0)\n",
      "Requirement already satisfied: patsy>=0.5 in /Library/Frameworks/Python.framework/Versions/3.8/lib/python3.8/site-packages (from statsmodels->tscausalinference) (0.5.1)\n",
      "Requirement already satisfied: pymeeus<=1,>=0.3.13 in /Library/Frameworks/Python.framework/Versions/3.8/lib/python3.8/site-packages (from convertdate>=2.1.2->prophet->tscausalinference) (0.5.11)\n",
      "Requirement already satisfied: hijri-converter in /Library/Frameworks/Python.framework/Versions/3.8/lib/python3.8/site-packages (from holidays>=0.10.2->prophet->tscausalinference) (2.2.2)\n",
      "Requirement already satisfied: korean-lunar-calendar in /Library/Frameworks/Python.framework/Versions/3.8/lib/python3.8/site-packages (from holidays>=0.10.2->prophet->tscausalinference) (0.2.1)\n",
      "Requirement already satisfied: ephem>=3.7.5.3 in /Library/Frameworks/Python.framework/Versions/3.8/lib/python3.8/site-packages (from LunarCalendar>=0.0.9->prophet->tscausalinference) (4.1.1)\n",
      "Requirement already satisfied: cycler>=0.10 in /Library/Frameworks/Python.framework/Versions/3.8/lib/python3.8/site-packages (from matplotlib>=2.0.0->prophet->tscausalinference) (0.10.0)\n",
      "Requirement already satisfied: kiwisolver>=1.0.1 in /Library/Frameworks/Python.framework/Versions/3.8/lib/python3.8/site-packages (from matplotlib>=2.0.0->prophet->tscausalinference) (1.1.0)\n",
      "Requirement already satisfied: pyparsing!=2.0.4,!=2.1.2,!=2.1.6,>=2.0.1 in /Library/Frameworks/Python.framework/Versions/3.8/lib/python3.8/site-packages (from matplotlib>=2.0.0->prophet->tscausalinference) (2.4.6)\n",
      "Requirement already satisfied: six in /Library/Frameworks/Python.framework/Versions/3.8/lib/python3.8/site-packages (from patsy>=0.5->statsmodels->tscausalinference) (1.14.0)\n",
      "Requirement already satisfied: setuptools in /Library/Frameworks/Python.framework/Versions/3.8/lib/python3.8/site-packages (from kiwisolver>=1.0.1->matplotlib>=2.0.0->prophet->tscausalinference) (41.2.0)\n"
     ]
    }
   ],
   "source": [
    "# Installing required libraries\n",
    "!pip install tscausalinference"
   ]
  },
  {
   "cell_type": "code",
   "execution_count": 15,
   "metadata": {},
   "outputs": [],
   "source": [
    "# Importing libraries\n",
    "from tscausalinference import synth_dataframe\n",
    "import seaborn as sns\n",
    "import matplotlib.pyplot as plt\n",
    "import numpy as np"
   ]
  },
  {
   "cell_type": "code",
   "execution_count": 6,
   "metadata": {},
   "outputs": [],
   "source": [
    "# Enviroment setup\n",
    "sns.set_theme()\n",
    "sns.set_context(\"notebook\")"
   ]
  },
  {
   "cell_type": "code",
   "execution_count": 4,
   "metadata": {},
   "outputs": [
    {
     "name": "stdout",
     "output_type": "stream",
     "text": [
      "Min date: 2022-01-01 00:00:00\n",
      "Max date: 2022-12-31 00:00:00\n",
      "Day where effect was injected: 2022-12-17 00:00:00\n",
      "Power of the effect: 15.0%\n"
     ]
    }
   ],
   "source": [
    "# Create a dataframe populated with synthetic data\n",
    "synth = synth_dataframe()\n",
    "df = synth.DataFrame()"
   ]
  },
  {
   "cell_type": "code",
   "execution_count": 16,
   "metadata": {},
   "outputs": [
    {
     "ename": "NameError",
     "evalue": "name 'impressions' is not defined",
     "output_type": "error",
     "traceback": [
      "\u001b[0;31m---------------------------------------------------------------------------\u001b[0m",
      "\u001b[0;31mNameError\u001b[0m                                 Traceback (most recent call last)",
      "\u001b[0;32m<ipython-input-16-179922cd72ef>\u001b[0m in \u001b[0;36m<module>\u001b[0;34m\u001b[0m\n\u001b[1;32m      5\u001b[0m \u001b[0mplt\u001b[0m\u001b[0;34m.\u001b[0m\u001b[0mylabel\u001b[0m\u001b[0;34m(\u001b[0m\u001b[0;34m\"Value\"\u001b[0m\u001b[0;34m)\u001b[0m\u001b[0;34m\u001b[0m\u001b[0;34m\u001b[0m\u001b[0m\n\u001b[1;32m      6\u001b[0m \u001b[0;34m\u001b[0m\u001b[0m\n\u001b[0;32m----> 7\u001b[0;31m \u001b[0msns\u001b[0m\u001b[0;34m.\u001b[0m\u001b[0mlineplot\u001b[0m\u001b[0;34m(\u001b[0m\u001b[0mx\u001b[0m\u001b[0;34m=\u001b[0m\u001b[0mnp\u001b[0m\u001b[0;34m.\u001b[0m\u001b[0marange\u001b[0m\u001b[0;34m(\u001b[0m\u001b[0;36m1\u001b[0m\u001b[0;34m,\u001b[0m\u001b[0;36m31\u001b[0m\u001b[0;34m)\u001b[0m\u001b[0;34m,\u001b[0m \u001b[0my\u001b[0m\u001b[0;34m=\u001b[0m\u001b[0mimpressions\u001b[0m\u001b[0;34m,\u001b[0m \u001b[0mlabel\u001b[0m\u001b[0;34m=\u001b[0m\u001b[0;34m\"Impressions\"\u001b[0m\u001b[0;34m)\u001b[0m\u001b[0;34m\u001b[0m\u001b[0;34m\u001b[0m\u001b[0m\n\u001b[0m\u001b[1;32m      8\u001b[0m \u001b[0msns\u001b[0m\u001b[0;34m.\u001b[0m\u001b[0mlineplot\u001b[0m\u001b[0;34m(\u001b[0m\u001b[0mx\u001b[0m\u001b[0;34m=\u001b[0m\u001b[0mnp\u001b[0m\u001b[0;34m.\u001b[0m\u001b[0marange\u001b[0m\u001b[0;34m(\u001b[0m\u001b[0;36m1\u001b[0m\u001b[0;34m,\u001b[0m\u001b[0;36m31\u001b[0m\u001b[0;34m)\u001b[0m\u001b[0;34m,\u001b[0m \u001b[0my\u001b[0m\u001b[0;34m=\u001b[0m\u001b[0mdiscounts\u001b[0m\u001b[0;34m,\u001b[0m \u001b[0mlabel\u001b[0m\u001b[0;34m=\u001b[0m\u001b[0;34m\"Discounts\"\u001b[0m\u001b[0;34m)\u001b[0m\u001b[0;34m\u001b[0m\u001b[0;34m\u001b[0m\u001b[0m\n\u001b[1;32m      9\u001b[0m \u001b[0msns\u001b[0m\u001b[0;34m.\u001b[0m\u001b[0mlineplot\u001b[0m\u001b[0;34m(\u001b[0m\u001b[0mx\u001b[0m\u001b[0;34m=\u001b[0m\u001b[0mnp\u001b[0m\u001b[0;34m.\u001b[0m\u001b[0marange\u001b[0m\u001b[0;34m(\u001b[0m\u001b[0;36m1\u001b[0m\u001b[0;34m,\u001b[0m\u001b[0;36m31\u001b[0m\u001b[0;34m)\u001b[0m\u001b[0;34m,\u001b[0m \u001b[0my\u001b[0m\u001b[0;34m=\u001b[0m\u001b[0memail_offers\u001b[0m\u001b[0;34m,\u001b[0m \u001b[0mlabel\u001b[0m\u001b[0;34m=\u001b[0m\u001b[0;34m\"Email Offers\"\u001b[0m\u001b[0;34m)\u001b[0m\u001b[0;34m\u001b[0m\u001b[0;34m\u001b[0m\u001b[0m\n",
      "\u001b[0;31mNameError\u001b[0m: name 'impressions' is not defined"
     ]
    },
    {
     "data": {
      "image/png": "[encoded data removed]",
      "text/plain": [
       "<Figure size 1080x576 with 1 Axes>"
      ]
     },
     "metadata": {},
     "output_type": "display_data"
    }
   ],
   "source": [
    "# Visualise our df\n",
    "plt.figure(figsize=(15,8))\n",
    "plt.title(\"Synth DataFrame\")\n",
    "plt.xlabel(\"Days\")\n",
    "plt.ylabel(\"Value\")\n",
    "\n",
    "sns.lineplot(x=np.arange(1,31), y=impressions, label=\"Impressions\")\n",
    "sns.lineplot(x=np.arange(1,31), y=discounts, label=\"Discounts\")\n",
    "sns.lineplot(x=np.arange(1,31), y=email_offers, label=\"Email Offers\")\n",
    "\n",
    "plt.axvline(20, color='r', linestyle='--', alpha=.5)\n",
    "\n",
    "plt.legend()\n",
    "plt.show()"
   ]
  },
  {
   "cell_type": "code",
   "execution_count": null,
   "metadata": {},
   "outputs": [],
   "source": []
  },
  {
   "cell_type": "code",
   "execution_count": null,
   "metadata": {},
   "outputs": [],
   "source": []
  }
 ],
 "metadata": {
  "kernelspec": {
   "display_name": "Python 3",
   "language": "python",
   "name": "python3"
  },
  "language_info": {
   "codemirror_mode": {
    "name": "ipython",
    "version": 3
   },
   "file_extension": ".py",
   "mimetype": "text/x-python",
   "name": "python",
   "nbconvert_exporter": "python",
   "pygments_lexer": "ipython3",
   "version": "3.8.1"
  }
 },
 "nbformat": 4,
 "nbformat_minor": 4
}
